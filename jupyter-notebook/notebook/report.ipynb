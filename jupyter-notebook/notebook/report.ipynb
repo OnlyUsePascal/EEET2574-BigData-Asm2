{
 "cells": [
  {
   "cell_type": "markdown",
   "metadata": {},
   "source": [
    "# EEET2574 | Assignment 2: Data Pipeline for Dutch Energy"
   ]
  },
  {
   "cell_type": "markdown",
   "metadata": {},
   "source": [
    "## Task 1: MongoDB \n",
    "\n",
    "## Task 2: Data Ingestion and Cleaning / Transformation\n",
    "\n",
    "### 2.1 Data Ingestion\n",
    "\n",
    "#### Q1: How many collections do you have? Why?\n",
    "\n",
    "### 2.2 Data Cleaning / Transformation\n",
    "\n",
    "#### Q2-A: What are the chosen data cleaning steps? Why?\n",
    "\n",
    "#### Q2-A: What are the chosen data cleaning steps? Why?\n",
    "\n",
    "## Task 3: Model training and tracking with data pipeline and MLflow\n",
    "\n",
    "#### Q3-A: What is/are your final model(s) based on the evaluation metrics?\n",
    "\n",
    "#### Q3-B: Did you build one model for both electricity and gas or separate models? Why?\n",
    "\n",
    "#### Q3-C: Should we build a separate model for each company or not? Why?\n",
    "\n",
    "## Task 4: Visualization"
   ]
  }
 ],
 "metadata": {
  "language_info": {
   "name": "python"
  }
 },
 "nbformat": 4,
 "nbformat_minor": 2
}
